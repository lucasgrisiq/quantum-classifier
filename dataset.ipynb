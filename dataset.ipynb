{
 "cells": [
  {
   "cell_type": "code",
   "execution_count": 6,
   "metadata": {},
   "outputs": [],
   "source": [
    "import cv2\n",
    "import os\n",
    "import numpy as np\n",
    "from utils import load_input"
   ]
  },
  {
   "cell_type": "code",
   "execution_count": 7,
   "metadata": {},
   "outputs": [],
   "source": [
    "import warnings\n",
    "warnings.filterwarnings('ignore')"
   ]
  },
  {
   "cell_type": "code",
   "execution_count": 15,
   "metadata": {},
   "outputs": [],
   "source": [
    "import pandas as pd\n",
    "import numpy as np\n",
    "\n",
    "data32 = [\n",
    "    load_input(label='airplanes', step='train', n_qbits=10),\n",
    "    load_input(label='ships', step='train', n_qbits=10)\n",
    "]\n"
   ]
  },
  {
   "cell_type": "code",
   "execution_count": 21,
   "metadata": {},
   "outputs": [],
   "source": [
    "data16 = [\n",
    "    load_input(label='airplanes', step='train', n_qbits=8),\n",
    "    load_input(label='ships', step='train', n_qbits=8)\n",
    "]"
   ]
  },
  {
   "cell_type": "code",
   "execution_count": 16,
   "metadata": {},
   "outputs": [],
   "source": [
    "train_df = pd.DataFrame(columns=['input', 'label'])\n",
    "\n",
    "for i, inputs in enumerate(data32):\n",
    "    for inpt in inputs:\n",
    "        train_df = train_df.append({'input': inpt, 'label': i}, ignore_index=True)\n"
   ]
  },
  {
   "cell_type": "code",
   "execution_count": 22,
   "metadata": {},
   "outputs": [],
   "source": [
    "train16_df = pd.DataFrame(columns=['input', 'label'])\n",
    "\n",
    "for i, inputs in enumerate(data16):\n",
    "    for inpt in inputs:\n",
    "        train16_df = train16_df.append({'input': inpt, 'label': i}, ignore_index=True)"
   ]
  },
  {
   "cell_type": "code",
   "execution_count": 23,
   "metadata": {},
   "outputs": [
    {
     "data": {
      "text/plain": [
       "(256,)"
      ]
     },
     "execution_count": 23,
     "metadata": {},
     "output_type": "execute_result"
    }
   ],
   "source": [
    "train16_df['input'][0].shape"
   ]
  },
  {
   "cell_type": "code",
   "execution_count": 24,
   "metadata": {},
   "outputs": [],
   "source": [
    "train_df.sample(50).to_pickle('Dataset/train_32.pkl')\n",
    "train16_df.sample(50).to_pickle('Dataset/train_16.pkl')"
   ]
  },
  {
   "cell_type": "code",
   "execution_count": 12,
   "metadata": {},
   "outputs": [],
   "source": [
    "data32 = [\n",
    "    load_input(label='airplanes', step='test', n_qbits=10),\n",
    "    load_input(label='ships', step='test', n_qbits=10)\n",
    "]\n"
   ]
  },
  {
   "cell_type": "code",
   "execution_count": 25,
   "metadata": {},
   "outputs": [],
   "source": [
    "data16 = [\n",
    "    load_input(label='airplanes', step='test', n_qbits=8),\n",
    "    load_input(label='ships', step='test', n_qbits=8)\n",
    "]"
   ]
  },
  {
   "cell_type": "code",
   "execution_count": 13,
   "metadata": {},
   "outputs": [],
   "source": [
    "test_df = pd.DataFrame(columns=['input', 'label'])\n",
    "\n",
    "for i, inputs in enumerate(data32):\n",
    "    for inpt in inputs:\n",
    "        test_df = test_df.append({'input': inpt, 'label': i}, ignore_index=True)\n"
   ]
  },
  {
   "cell_type": "code",
   "execution_count": 26,
   "metadata": {},
   "outputs": [],
   "source": [
    "test16_df = pd.DataFrame(columns=['input', 'label'])\n",
    "\n",
    "for i, inputs in enumerate(data16):\n",
    "    for inpt in inputs:\n",
    "        test16_df = test16_df.append({'input': inpt, 'label': i}, ignore_index=True)"
   ]
  },
  {
   "cell_type": "code",
   "execution_count": 27,
   "metadata": {},
   "outputs": [],
   "source": [
    "test_df.sample(20).to_pickle('Dataset/test_32.pkl')\n",
    "test16_df.sample(20).to_pickle('Dataset/test_16.pkl')"
   ]
  },
  {
   "cell_type": "code",
   "execution_count": null,
   "metadata": {},
   "outputs": [],
   "source": [
    "test_df.values"
   ]
  },
  {
   "cell_type": "code",
   "execution_count": 50,
   "metadata": {},
   "outputs": [
    {
     "data": {
      "text/plain": [
       "array([1.40447672, 1.40447672, 1.40447672, ..., 0.39423908, 0.37575912,\n",
       "       0.22175948])"
      ]
     },
     "execution_count": 50,
     "metadata": {},
     "output_type": "execute_result"
    }
   ],
   "source": [
    "test_df.values[0][0]"
   ]
  },
  {
   "cell_type": "code",
   "execution_count": 3,
   "metadata": {},
   "outputs": [],
   "source": [
    "import cv2\n",
    "\n",
    "img = cv2.imread('Dataset/imgs/train/airplanes/airplane50.jpg')\n",
    "img = cv2.resize(img, (16,16))"
   ]
  },
  {
   "cell_type": "code",
   "execution_count": 4,
   "metadata": {},
   "outputs": [],
   "source": [
    "# show img\n",
    "cv2.imshow('img', img)\n",
    "cv2.waitKey(0)\n",
    "cv2.destroyAllWindows()"
   ]
  },
  {
   "cell_type": "code",
   "execution_count": null,
   "metadata": {},
   "outputs": [],
   "source": []
  }
 ],
 "metadata": {
  "interpreter": {
   "hash": "ee1064628f96b084122a73fe498e43969e91fa8b8d6266628fe61e971cd41ef6"
  },
  "kernelspec": {
   "display_name": "Python 3.8.10 ('qcls-venv': venv)",
   "language": "python",
   "name": "python3"
  },
  "language_info": {
   "codemirror_mode": {
    "name": "ipython",
    "version": 3
   },
   "file_extension": ".py",
   "mimetype": "text/x-python",
   "name": "python",
   "nbconvert_exporter": "python",
   "pygments_lexer": "ipython3",
   "version": "3.8.10"
  },
  "orig_nbformat": 4
 },
 "nbformat": 4,
 "nbformat_minor": 2
}
