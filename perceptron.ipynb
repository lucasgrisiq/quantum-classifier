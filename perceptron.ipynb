{
 "cells": [
  {
   "cell_type": "code",
   "execution_count": 2,
   "metadata": {},
   "outputs": [],
   "source": [
    "from perceptron import QPerceptron\n",
    "import numpy as np"
   ]
  },
  {
   "cell_type": "code",
   "execution_count": 6,
   "metadata": {},
   "outputs": [
    {
     "data": {
      "text/plain": [
       "2"
      ]
     },
     "execution_count": 6,
     "metadata": {},
     "output_type": "execute_result"
    }
   ],
   "source": [
    "neuron = QPerceptron(5)\n",
    "# res = neuron.train()\n",
    "len(neuron.input_states[0])"
   ]
  },
  {
   "cell_type": "code",
   "execution_count": 4,
   "metadata": {},
   "outputs": [
    {
     "name": "stdout",
     "output_type": "stream",
     "text": [
      "step: 00001\n",
      "x Qubit(QuantumRegister(5, 'qr'), 4)\n",
      "step: 00010\n",
      "x Qubit(QuantumRegister(5, 'qr'), 3)\n",
      "x Qubit(QuantumRegister(5, 'qr'), 4)\n",
      "step: 00011\n",
      "x Qubit(QuantumRegister(5, 'qr'), 4)\n",
      "step: 00100\n",
      "x Qubit(QuantumRegister(5, 'qr'), 2)\n",
      "x Qubit(QuantumRegister(5, 'qr'), 3)\n",
      "x Qubit(QuantumRegister(5, 'qr'), 4)\n",
      "step: 00101\n",
      "x Qubit(QuantumRegister(5, 'qr'), 4)\n",
      "step: 00110\n",
      "x Qubit(QuantumRegister(5, 'qr'), 3)\n",
      "x Qubit(QuantumRegister(5, 'qr'), 4)\n",
      "step: 00111\n",
      "x Qubit(QuantumRegister(5, 'qr'), 4)\n",
      "step: 01000\n",
      "x Qubit(QuantumRegister(5, 'qr'), 1)\n",
      "x Qubit(QuantumRegister(5, 'qr'), 2)\n",
      "x Qubit(QuantumRegister(5, 'qr'), 3)\n",
      "x Qubit(QuantumRegister(5, 'qr'), 4)\n",
      "step: 01001\n",
      "x Qubit(QuantumRegister(5, 'qr'), 4)\n",
      "step: 01010\n",
      "x Qubit(QuantumRegister(5, 'qr'), 3)\n",
      "x Qubit(QuantumRegister(5, 'qr'), 4)\n",
      "step: 01011\n",
      "x Qubit(QuantumRegister(5, 'qr'), 4)\n",
      "step: 01100\n",
      "x Qubit(QuantumRegister(5, 'qr'), 2)\n",
      "x Qubit(QuantumRegister(5, 'qr'), 3)\n",
      "x Qubit(QuantumRegister(5, 'qr'), 4)\n",
      "step: 01101\n",
      "x Qubit(QuantumRegister(5, 'qr'), 4)\n",
      "step: 01110\n",
      "x Qubit(QuantumRegister(5, 'qr'), 3)\n",
      "x Qubit(QuantumRegister(5, 'qr'), 4)\n",
      "step: 01111\n",
      "x Qubit(QuantumRegister(5, 'qr'), 4)\n",
      "step: 10000\n",
      "x Qubit(QuantumRegister(5, 'qr'), 0)\n",
      "x Qubit(QuantumRegister(5, 'qr'), 1)\n",
      "x Qubit(QuantumRegister(5, 'qr'), 2)\n",
      "x Qubit(QuantumRegister(5, 'qr'), 3)\n",
      "x Qubit(QuantumRegister(5, 'qr'), 4)\n",
      "step: 10001\n",
      "x Qubit(QuantumRegister(5, 'qr'), 4)\n",
      "step: 10010\n",
      "x Qubit(QuantumRegister(5, 'qr'), 3)\n",
      "x Qubit(QuantumRegister(5, 'qr'), 4)\n",
      "step: 10011\n",
      "x Qubit(QuantumRegister(5, 'qr'), 4)\n",
      "step: 10100\n",
      "x Qubit(QuantumRegister(5, 'qr'), 2)\n",
      "x Qubit(QuantumRegister(5, 'qr'), 3)\n",
      "x Qubit(QuantumRegister(5, 'qr'), 4)\n",
      "step: 10101\n",
      "x Qubit(QuantumRegister(5, 'qr'), 4)\n",
      "step: 10110\n",
      "x Qubit(QuantumRegister(5, 'qr'), 3)\n",
      "x Qubit(QuantumRegister(5, 'qr'), 4)\n",
      "step: 10111\n",
      "x Qubit(QuantumRegister(5, 'qr'), 4)\n",
      "step: 11000\n",
      "x Qubit(QuantumRegister(5, 'qr'), 1)\n",
      "x Qubit(QuantumRegister(5, 'qr'), 2)\n",
      "x Qubit(QuantumRegister(5, 'qr'), 3)\n",
      "x Qubit(QuantumRegister(5, 'qr'), 4)\n",
      "step: 11001\n",
      "x Qubit(QuantumRegister(5, 'qr'), 4)\n"
     ]
    },
    {
     "ename": "IndexError",
     "evalue": "index 25 is out of bounds for axis 0 with size 25",
     "output_type": "error",
     "traceback": [
      "\u001b[0;31m---------------------------------------------------------------------------\u001b[0m",
      "\u001b[0;31mIndexError\u001b[0m                                Traceback (most recent call last)",
      "\u001b[1;32m/home/lucas/Documents/CIN/quantum-classifier/perceptron.ipynb Cell 3'\u001b[0m in \u001b[0;36m<cell line: 4>\u001b[0;34m()\u001b[0m\n\u001b[1;32m      <a href='vscode-notebook-cell:/home/lucas/Documents/CIN/quantum-classifier/perceptron.ipynb#ch0000008?line=0'>1</a>\u001b[0m size \u001b[39m=\u001b[39m \u001b[39mlen\u001b[39m(neuron\u001b[39m.\u001b[39minput_states[\u001b[39m0\u001b[39m][\u001b[39m0\u001b[39m])\n\u001b[1;32m      <a href='vscode-notebook-cell:/home/lucas/Documents/CIN/quantum-classifier/perceptron.ipynb#ch0000008?line=1'>2</a>\u001b[0m w \u001b[39m=\u001b[39m np\u001b[39m.\u001b[39mrandom\u001b[39m.\u001b[39muniform(\u001b[39m0\u001b[39m, np\u001b[39m.\u001b[39mpi\u001b[39m/\u001b[39m\u001b[39m2\u001b[39m, size)\n\u001b[0;32m----> <a href='vscode-notebook-cell:/home/lucas/Documents/CIN/quantum-classifier/perceptron.ipynb#ch0000008?line=3'>4</a>\u001b[0m neuron\u001b[39m.\u001b[39;49mrun(\u001b[39m0\u001b[39;49m, w)\n",
      "File \u001b[0;32m~/Documents/CIN/quantum-classifier/perceptron.py:95\u001b[0m, in \u001b[0;36mQPerceptron.run\u001b[0;34m(self, index, weights, threshold)\u001b[0m\n\u001b[1;32m     <a href='file:///home/lucas/Documents/CIN/quantum-classifier/perceptron.py?line=92'>93</a>\u001b[0m \u001b[39mself\u001b[39m\u001b[39m.\u001b[39mset_inputs(inputs)\n\u001b[1;32m     <a href='file:///home/lucas/Documents/CIN/quantum-classifier/perceptron.py?line=93'>94</a>\u001b[0m \u001b[39mself\u001b[39m\u001b[39m.\u001b[39mset_weights(weights)\n\u001b[0;32m---> <a href='file:///home/lucas/Documents/CIN/quantum-classifier/perceptron.py?line=94'>95</a>\u001b[0m \u001b[39mself\u001b[39m\u001b[39m.\u001b[39mcircuit \u001b[39m=\u001b[39m \u001b[39mself\u001b[39;49m\u001b[39m.\u001b[39;49mmake_circuit()\n\u001b[1;32m     <a href='file:///home/lucas/Documents/CIN/quantum-classifier/perceptron.py?line=96'>97</a>\u001b[0m result \u001b[39m=\u001b[39m qiskit\u001b[39m.\u001b[39mexecute(\u001b[39mself\u001b[39m\u001b[39m.\u001b[39mcircuit, \u001b[39mself\u001b[39m\u001b[39m.\u001b[39msim, shots\u001b[39m=\u001b[39m\u001b[39m10\u001b[39m)\u001b[39m.\u001b[39mresult()\u001b[39m.\u001b[39mget_counts()\n\u001b[1;32m     <a href='file:///home/lucas/Documents/CIN/quantum-classifier/perceptron.py?line=97'>98</a>\u001b[0m resp \u001b[39m=\u001b[39m result[\u001b[39m'\u001b[39m\u001b[39m1\u001b[39m\u001b[39m'\u001b[39m] \u001b[39m/\u001b[39m (result[\u001b[39m'\u001b[39m\u001b[39m1\u001b[39m\u001b[39m'\u001b[39m] \u001b[39m+\u001b[39m result[\u001b[39m'\u001b[39m\u001b[39m0\u001b[39m\u001b[39m'\u001b[39m])\n",
      "File \u001b[0;32m~/Documents/CIN/quantum-classifier/perceptron.py:77\u001b[0m, in \u001b[0;36mQPerceptron.make_circuit\u001b[0;34m(self)\u001b[0m\n\u001b[1;32m     <a href='file:///home/lucas/Documents/CIN/quantum-classifier/perceptron.py?line=73'>74</a>\u001b[0m meas \u001b[39m=\u001b[39m qiskit\u001b[39m.\u001b[39mClassicalRegister(\u001b[39m1\u001b[39m, \u001b[39m'\u001b[39m\u001b[39mcr0\u001b[39m\u001b[39m'\u001b[39m)\n\u001b[1;32m     <a href='file:///home/lucas/Documents/CIN/quantum-classifier/perceptron.py?line=74'>75</a>\u001b[0m circuit \u001b[39m=\u001b[39m qiskit\u001b[39m.\u001b[39mQuantumCircuit(\u001b[39mself\u001b[39m\u001b[39m.\u001b[39mqstates, ansilla, meas)\n\u001b[0;32m---> <a href='file:///home/lucas/Documents/CIN/quantum-classifier/perceptron.py?line=76'>77</a>\u001b[0m ui \u001b[39m=\u001b[39m \u001b[39mself\u001b[39;49m\u001b[39m.\u001b[39;49m_make_ui()\u001b[39m.\u001b[39mto_gate(label\u001b[39m=\u001b[39m\u001b[39m'\u001b[39m\u001b[39mUi\u001b[39m\u001b[39m'\u001b[39m)\n\u001b[1;32m     <a href='file:///home/lucas/Documents/CIN/quantum-classifier/perceptron.py?line=77'>78</a>\u001b[0m uw \u001b[39m=\u001b[39m \u001b[39mself\u001b[39m\u001b[39m.\u001b[39m_make_uw()\u001b[39m.\u001b[39mto_gate(label\u001b[39m=\u001b[39m\u001b[39m'\u001b[39m\u001b[39mUw\u001b[39m\u001b[39m'\u001b[39m)\n\u001b[1;32m     <a href='file:///home/lucas/Documents/CIN/quantum-classifier/perceptron.py?line=79'>80</a>\u001b[0m circuit\u001b[39m.\u001b[39mappend(ui, \u001b[39mself\u001b[39m\u001b[39m.\u001b[39mqstates)\n",
      "File \u001b[0;32m~/Documents/CIN/quantum-classifier/perceptron.py:44\u001b[0m, in \u001b[0;36mQPerceptron._make_ui\u001b[0;34m(self)\u001b[0m\n\u001b[1;32m     <a href='file:///home/lucas/Documents/CIN/quantum-classifier/perceptron.py?line=40'>41</a>\u001b[0m         \u001b[39mprint\u001b[39m(\u001b[39mf\u001b[39m\u001b[39m'\u001b[39m\u001b[39mx \u001b[39m\u001b[39m{\u001b[39;00mq[i]\u001b[39m}\u001b[39;00m\u001b[39m'\u001b[39m)\n\u001b[1;32m     <a href='file:///home/lucas/Documents/CIN/quantum-classifier/perceptron.py?line=41'>42</a>\u001b[0m         ui\u001b[39m.\u001b[39mx(q[i])\n\u001b[0;32m---> <a href='file:///home/lucas/Documents/CIN/quantum-classifier/perceptron.py?line=43'>44</a>\u001b[0m th \u001b[39m=\u001b[39m \u001b[39mself\u001b[39;49m\u001b[39m.\u001b[39;49mtheta[s] \u001b[39m-\u001b[39m \u001b[39mself\u001b[39m\u001b[39m.\u001b[39mtheta[\u001b[39m0\u001b[39m]\n\u001b[1;32m     <a href='file:///home/lucas/Documents/CIN/quantum-classifier/perceptron.py?line=44'>45</a>\u001b[0m ui\u001b[39m.\u001b[39mmcrz(lam\u001b[39m=\u001b[39mth, q_controls\u001b[39m=\u001b[39mq[:\u001b[39m-\u001b[39m\u001b[39m1\u001b[39m], q_target\u001b[39m=\u001b[39mq[\u001b[39m-\u001b[39m\u001b[39m1\u001b[39m])\n\u001b[1;32m     <a href='file:///home/lucas/Documents/CIN/quantum-classifier/perceptron.py?line=46'>47</a>\u001b[0m prev_step \u001b[39m=\u001b[39m step\n",
      "\u001b[0;31mIndexError\u001b[0m: index 25 is out of bounds for axis 0 with size 25"
     ]
    }
   ],
   "source": [
    "size = len(neuron.input_states[0][0])\n",
    "w = np.random.uniform(0, np.pi/2, size)\n",
    "\n",
    "neuron.run(0, w)"
   ]
  },
  {
   "cell_type": "code",
   "execution_count": 9,
   "metadata": {},
   "outputs": [
    {
     "name": "stdout",
     "output_type": "stream",
     "text": [
      "[0.51255235 0.52397501 1.18964512 ... 1.33160348 0.80382943 0.57453386]\n",
      "0\n",
      "[0.51255235 0.52397501 1.18964512 ... 1.33160348 0.80382943 0.57453386]\n"
     ]
    },
    {
     "ename": "KeyboardInterrupt",
     "evalue": "",
     "output_type": "error",
     "traceback": [
      "\u001b[0;31m---------------------------------------------------------------------------\u001b[0m",
      "\u001b[0;31mKeyboardInterrupt\u001b[0m                         Traceback (most recent call last)",
      "\u001b[1;32m/home/lucas/Documents/CIN/quantum-classifier/perceptron.ipynb Cell 3'\u001b[0m in \u001b[0;36m<cell line: 8>\u001b[0;34m()\u001b[0m\n\u001b[1;32m      <a href='vscode-notebook-cell:/home/lucas/Documents/CIN/quantum-classifier/perceptron.ipynb#ch0000005?line=5'>6</a>\u001b[0m cost \u001b[39m=\u001b[39m \u001b[39m0\u001b[39m\n\u001b[1;32m      <a href='vscode-notebook-cell:/home/lucas/Documents/CIN/quantum-classifier/perceptron.ipynb#ch0000005?line=7'>8</a>\u001b[0m \u001b[39mfor\u001b[39;00m i \u001b[39min\u001b[39;00m \u001b[39mrange\u001b[39m(\u001b[39mlen\u001b[39m(neuron\u001b[39m.\u001b[39minput_states)):\n\u001b[0;32m----> <a href='vscode-notebook-cell:/home/lucas/Documents/CIN/quantum-classifier/perceptron.ipynb#ch0000005?line=8'>9</a>\u001b[0m     y \u001b[39m=\u001b[39m neuron\u001b[39m.\u001b[39;49mrun(i, w)\n\u001b[1;32m     <a href='vscode-notebook-cell:/home/lucas/Documents/CIN/quantum-classifier/perceptron.ipynb#ch0000005?line=9'>10</a>\u001b[0m     cost \u001b[39m+\u001b[39m\u001b[39m=\u001b[39m (neuron\u001b[39m.\u001b[39minput_states[i][\u001b[39m1\u001b[39m] \u001b[39m-\u001b[39m y) \u001b[39m*\u001b[39m\u001b[39m*\u001b[39m \u001b[39m2\u001b[39m\n\u001b[1;32m     <a href='vscode-notebook-cell:/home/lucas/Documents/CIN/quantum-classifier/perceptron.ipynb#ch0000005?line=10'>11</a>\u001b[0m     \u001b[39mprint\u001b[39m(cost)\n",
      "File \u001b[0;32m~/Documents/CIN/quantum-classifier/perceptron.py:94\u001b[0m, in \u001b[0;36mQPerceptron.run\u001b[0;34m(self, index, weights, threshold)\u001b[0m\n\u001b[1;32m     <a href='file:///home/lucas/Documents/CIN/quantum-classifier/perceptron.py?line=90'>91</a>\u001b[0m \u001b[39mself\u001b[39m\u001b[39m.\u001b[39mset_weights(weights)\n\u001b[1;32m     <a href='file:///home/lucas/Documents/CIN/quantum-classifier/perceptron.py?line=91'>92</a>\u001b[0m \u001b[39mself\u001b[39m\u001b[39m.\u001b[39mcircuit \u001b[39m=\u001b[39m \u001b[39mself\u001b[39m\u001b[39m.\u001b[39mmake_circuit()\n\u001b[0;32m---> <a href='file:///home/lucas/Documents/CIN/quantum-classifier/perceptron.py?line=93'>94</a>\u001b[0m result \u001b[39m=\u001b[39m qiskit\u001b[39m.\u001b[39;49mexecute(\u001b[39mself\u001b[39;49m\u001b[39m.\u001b[39;49mcircuit, \u001b[39mself\u001b[39;49m\u001b[39m.\u001b[39;49msim, shots\u001b[39m=\u001b[39;49m\u001b[39m10\u001b[39;49m)\u001b[39m.\u001b[39mresult()\u001b[39m.\u001b[39mget_counts()\n\u001b[1;32m     <a href='file:///home/lucas/Documents/CIN/quantum-classifier/perceptron.py?line=94'>95</a>\u001b[0m resp \u001b[39m=\u001b[39m result[\u001b[39m'\u001b[39m\u001b[39m1\u001b[39m\u001b[39m'\u001b[39m] \u001b[39m/\u001b[39m (result[\u001b[39m'\u001b[39m\u001b[39m1\u001b[39m\u001b[39m'\u001b[39m] \u001b[39m+\u001b[39m result[\u001b[39m'\u001b[39m\u001b[39m0\u001b[39m\u001b[39m'\u001b[39m])\n\u001b[1;32m     <a href='file:///home/lucas/Documents/CIN/quantum-classifier/perceptron.py?line=96'>97</a>\u001b[0m \u001b[39mif\u001b[39;00m resp \u001b[39m>\u001b[39m threshold:\n",
      "File \u001b[0;32m~/Documents/CIN/quantum-classifier/qcls-venv/lib/python3.8/site-packages/qiskit/execute_function.py:297\u001b[0m, in \u001b[0;36mexecute\u001b[0;34m(experiments, backend, basis_gates, coupling_map, backend_properties, initial_layout, seed_transpiler, optimization_level, pass_manager, qobj_id, qobj_header, shots, memory, max_credits, seed_simulator, default_qubit_los, default_meas_los, qubit_lo_range, meas_lo_range, schedule_los, meas_level, meas_return, memory_slots, memory_slot_size, rep_time, rep_delay, parameter_binds, schedule_circuit, inst_map, meas_map, scheduling_method, init_qubits, **run_config)\u001b[0m\n\u001b[1;32m    <a href='file:///home/lucas/Documents/CIN/quantum-classifier/qcls-venv/lib/python3.8/site-packages/qiskit/execute_function.py?line=293'>294</a>\u001b[0m     experiments \u001b[39m=\u001b[39m pass_manager\u001b[39m.\u001b[39mrun(experiments)\n\u001b[1;32m    <a href='file:///home/lucas/Documents/CIN/quantum-classifier/qcls-venv/lib/python3.8/site-packages/qiskit/execute_function.py?line=294'>295</a>\u001b[0m \u001b[39melse\u001b[39;00m:\n\u001b[1;32m    <a href='file:///home/lucas/Documents/CIN/quantum-classifier/qcls-venv/lib/python3.8/site-packages/qiskit/execute_function.py?line=295'>296</a>\u001b[0m     \u001b[39m# transpiling the circuits using given transpile options\u001b[39;00m\n\u001b[0;32m--> <a href='file:///home/lucas/Documents/CIN/quantum-classifier/qcls-venv/lib/python3.8/site-packages/qiskit/execute_function.py?line=296'>297</a>\u001b[0m     experiments \u001b[39m=\u001b[39m transpile(\n\u001b[1;32m    <a href='file:///home/lucas/Documents/CIN/quantum-classifier/qcls-venv/lib/python3.8/site-packages/qiskit/execute_function.py?line=297'>298</a>\u001b[0m         experiments,\n\u001b[1;32m    <a href='file:///home/lucas/Documents/CIN/quantum-classifier/qcls-venv/lib/python3.8/site-packages/qiskit/execute_function.py?line=298'>299</a>\u001b[0m         basis_gates\u001b[39m=\u001b[39;49mbasis_gates,\n\u001b[1;32m    <a href='file:///home/lucas/Documents/CIN/quantum-classifier/qcls-venv/lib/python3.8/site-packages/qiskit/execute_function.py?line=299'>300</a>\u001b[0m         coupling_map\u001b[39m=\u001b[39;49mcoupling_map,\n\u001b[1;32m    <a href='file:///home/lucas/Documents/CIN/quantum-classifier/qcls-venv/lib/python3.8/site-packages/qiskit/execute_function.py?line=300'>301</a>\u001b[0m         backend_properties\u001b[39m=\u001b[39;49mbackend_properties,\n\u001b[1;32m    <a href='file:///home/lucas/Documents/CIN/quantum-classifier/qcls-venv/lib/python3.8/site-packages/qiskit/execute_function.py?line=301'>302</a>\u001b[0m         initial_layout\u001b[39m=\u001b[39;49minitial_layout,\n\u001b[1;32m    <a href='file:///home/lucas/Documents/CIN/quantum-classifier/qcls-venv/lib/python3.8/site-packages/qiskit/execute_function.py?line=302'>303</a>\u001b[0m         seed_transpiler\u001b[39m=\u001b[39;49mseed_transpiler,\n\u001b[1;32m    <a href='file:///home/lucas/Documents/CIN/quantum-classifier/qcls-venv/lib/python3.8/site-packages/qiskit/execute_function.py?line=303'>304</a>\u001b[0m         optimization_level\u001b[39m=\u001b[39;49moptimization_level,\n\u001b[1;32m    <a href='file:///home/lucas/Documents/CIN/quantum-classifier/qcls-venv/lib/python3.8/site-packages/qiskit/execute_function.py?line=304'>305</a>\u001b[0m         backend\u001b[39m=\u001b[39;49mbackend,\n\u001b[1;32m    <a href='file:///home/lucas/Documents/CIN/quantum-classifier/qcls-venv/lib/python3.8/site-packages/qiskit/execute_function.py?line=305'>306</a>\u001b[0m     )\n\u001b[1;32m    <a href='file:///home/lucas/Documents/CIN/quantum-classifier/qcls-venv/lib/python3.8/site-packages/qiskit/execute_function.py?line=307'>308</a>\u001b[0m \u001b[39mif\u001b[39;00m schedule_circuit:\n\u001b[1;32m    <a href='file:///home/lucas/Documents/CIN/quantum-classifier/qcls-venv/lib/python3.8/site-packages/qiskit/execute_function.py?line=308'>309</a>\u001b[0m     experiments \u001b[39m=\u001b[39m schedule(\n\u001b[1;32m    <a href='file:///home/lucas/Documents/CIN/quantum-classifier/qcls-venv/lib/python3.8/site-packages/qiskit/execute_function.py?line=309'>310</a>\u001b[0m         circuits\u001b[39m=\u001b[39mexperiments,\n\u001b[1;32m    <a href='file:///home/lucas/Documents/CIN/quantum-classifier/qcls-venv/lib/python3.8/site-packages/qiskit/execute_function.py?line=310'>311</a>\u001b[0m         backend\u001b[39m=\u001b[39mbackend,\n\u001b[0;32m   (...)\u001b[0m\n\u001b[1;32m    <a href='file:///home/lucas/Documents/CIN/quantum-classifier/qcls-venv/lib/python3.8/site-packages/qiskit/execute_function.py?line=313'>314</a>\u001b[0m         method\u001b[39m=\u001b[39mscheduling_method,\n\u001b[1;32m    <a href='file:///home/lucas/Documents/CIN/quantum-classifier/qcls-venv/lib/python3.8/site-packages/qiskit/execute_function.py?line=314'>315</a>\u001b[0m     )\n",
      "File \u001b[0;32m~/Documents/CIN/quantum-classifier/qcls-venv/lib/python3.8/site-packages/qiskit/compiler/transpiler.py:304\u001b[0m, in \u001b[0;36mtranspile\u001b[0;34m(circuits, backend, basis_gates, inst_map, coupling_map, backend_properties, initial_layout, layout_method, routing_method, translation_method, scheduling_method, instruction_durations, dt, approximation_degree, timing_constraints, seed_transpiler, optimization_level, callback, output_name, unitary_synthesis_method, unitary_synthesis_plugin_config, target)\u001b[0m\n\u001b[1;32m    <a href='file:///home/lucas/Documents/CIN/quantum-classifier/qcls-venv/lib/python3.8/site-packages/qiskit/compiler/transpiler.py?line=300'>301</a>\u001b[0m _check_circuits_coupling_map(circuits, transpile_args, backend)\n\u001b[1;32m    <a href='file:///home/lucas/Documents/CIN/quantum-classifier/qcls-venv/lib/python3.8/site-packages/qiskit/compiler/transpiler.py?line=302'>303</a>\u001b[0m \u001b[39m# Transpile circuits in parallel\u001b[39;00m\n\u001b[0;32m--> <a href='file:///home/lucas/Documents/CIN/quantum-classifier/qcls-venv/lib/python3.8/site-packages/qiskit/compiler/transpiler.py?line=303'>304</a>\u001b[0m circuits \u001b[39m=\u001b[39m parallel_map(_transpile_circuit, \u001b[39mlist\u001b[39;49m(\u001b[39mzip\u001b[39;49m(circuits, transpile_args)))\n\u001b[1;32m    <a href='file:///home/lucas/Documents/CIN/quantum-classifier/qcls-venv/lib/python3.8/site-packages/qiskit/compiler/transpiler.py?line=305'>306</a>\u001b[0m end_time \u001b[39m=\u001b[39m time()\n\u001b[1;32m    <a href='file:///home/lucas/Documents/CIN/quantum-classifier/qcls-venv/lib/python3.8/site-packages/qiskit/compiler/transpiler.py?line=306'>307</a>\u001b[0m _log_transpile_time(start_time, end_time)\n",
      "File \u001b[0;32m~/Documents/CIN/quantum-classifier/qcls-venv/lib/python3.8/site-packages/qiskit/tools/parallel.py:129\u001b[0m, in \u001b[0;36mparallel_map\u001b[0;34m(task, values, task_args, task_kwargs, num_processes)\u001b[0m\n\u001b[1;32m    <a href='file:///home/lucas/Documents/CIN/quantum-classifier/qcls-venv/lib/python3.8/site-packages/qiskit/tools/parallel.py?line=126'>127</a>\u001b[0m     \u001b[39mreturn\u001b[39;00m []\n\u001b[1;32m    <a href='file:///home/lucas/Documents/CIN/quantum-classifier/qcls-venv/lib/python3.8/site-packages/qiskit/tools/parallel.py?line=127'>128</a>\u001b[0m \u001b[39mif\u001b[39;00m \u001b[39mlen\u001b[39m(values) \u001b[39m==\u001b[39m \u001b[39m1\u001b[39m:\n\u001b[0;32m--> <a href='file:///home/lucas/Documents/CIN/quantum-classifier/qcls-venv/lib/python3.8/site-packages/qiskit/tools/parallel.py?line=128'>129</a>\u001b[0m     \u001b[39mreturn\u001b[39;00m [task(values[\u001b[39m0\u001b[39;49m], \u001b[39m*\u001b[39;49mtask_args, \u001b[39m*\u001b[39;49m\u001b[39m*\u001b[39;49mtask_kwargs)]\n\u001b[1;32m    <a href='file:///home/lucas/Documents/CIN/quantum-classifier/qcls-venv/lib/python3.8/site-packages/qiskit/tools/parallel.py?line=130'>131</a>\u001b[0m Publisher()\u001b[39m.\u001b[39mpublish(\u001b[39m\"\u001b[39m\u001b[39mterra.parallel.start\u001b[39m\u001b[39m\"\u001b[39m, \u001b[39mlen\u001b[39m(values))\n\u001b[1;32m    <a href='file:///home/lucas/Documents/CIN/quantum-classifier/qcls-venv/lib/python3.8/site-packages/qiskit/tools/parallel.py?line=131'>132</a>\u001b[0m nfinished \u001b[39m=\u001b[39m [\u001b[39m0\u001b[39m]\n",
      "File \u001b[0;32m~/Documents/CIN/quantum-classifier/qcls-venv/lib/python3.8/site-packages/qiskit/compiler/transpiler.py:389\u001b[0m, in \u001b[0;36m_transpile_circuit\u001b[0;34m(circuit_config_tuple)\u001b[0m\n\u001b[1;32m    <a href='file:///home/lucas/Documents/CIN/quantum-classifier/qcls-venv/lib/python3.8/site-packages/qiskit/compiler/transpiler.py?line=385'>386</a>\u001b[0m \u001b[39melse\u001b[39;00m:\n\u001b[1;32m    <a href='file:///home/lucas/Documents/CIN/quantum-classifier/qcls-venv/lib/python3.8/site-packages/qiskit/compiler/transpiler.py?line=386'>387</a>\u001b[0m     \u001b[39mraise\u001b[39;00m TranspilerError(\u001b[39m\"\u001b[39m\u001b[39moptimization_level can range from 0 to 3.\u001b[39m\u001b[39m\"\u001b[39m)\n\u001b[0;32m--> <a href='file:///home/lucas/Documents/CIN/quantum-classifier/qcls-venv/lib/python3.8/site-packages/qiskit/compiler/transpiler.py?line=388'>389</a>\u001b[0m result \u001b[39m=\u001b[39m pass_manager\u001b[39m.\u001b[39;49mrun(\n\u001b[1;32m    <a href='file:///home/lucas/Documents/CIN/quantum-classifier/qcls-venv/lib/python3.8/site-packages/qiskit/compiler/transpiler.py?line=389'>390</a>\u001b[0m     circuit, callback\u001b[39m=\u001b[39;49mtranspile_config[\u001b[39m\"\u001b[39;49m\u001b[39mcallback\u001b[39;49m\u001b[39m\"\u001b[39;49m], output_name\u001b[39m=\u001b[39;49mtranspile_config[\u001b[39m\"\u001b[39;49m\u001b[39moutput_name\u001b[39;49m\u001b[39m\"\u001b[39;49m]\n\u001b[1;32m    <a href='file:///home/lucas/Documents/CIN/quantum-classifier/qcls-venv/lib/python3.8/site-packages/qiskit/compiler/transpiler.py?line=390'>391</a>\u001b[0m )\n\u001b[1;32m    <a href='file:///home/lucas/Documents/CIN/quantum-classifier/qcls-venv/lib/python3.8/site-packages/qiskit/compiler/transpiler.py?line=392'>393</a>\u001b[0m \u001b[39mif\u001b[39;00m transpile_config[\u001b[39m\"\u001b[39m\u001b[39mfaulty_qubits_map\u001b[39m\u001b[39m\"\u001b[39m]:\n\u001b[1;32m    <a href='file:///home/lucas/Documents/CIN/quantum-classifier/qcls-venv/lib/python3.8/site-packages/qiskit/compiler/transpiler.py?line=393'>394</a>\u001b[0m     \u001b[39mreturn\u001b[39;00m _remap_circuit_faulty_backend(\n\u001b[1;32m    <a href='file:///home/lucas/Documents/CIN/quantum-classifier/qcls-venv/lib/python3.8/site-packages/qiskit/compiler/transpiler.py?line=394'>395</a>\u001b[0m         result,\n\u001b[1;32m    <a href='file:///home/lucas/Documents/CIN/quantum-classifier/qcls-venv/lib/python3.8/site-packages/qiskit/compiler/transpiler.py?line=395'>396</a>\u001b[0m         transpile_config[\u001b[39m\"\u001b[39m\u001b[39mbackend_num_qubits\u001b[39m\u001b[39m\"\u001b[39m],\n\u001b[1;32m    <a href='file:///home/lucas/Documents/CIN/quantum-classifier/qcls-venv/lib/python3.8/site-packages/qiskit/compiler/transpiler.py?line=396'>397</a>\u001b[0m         pass_manager_config\u001b[39m.\u001b[39mbackend_properties,\n\u001b[1;32m    <a href='file:///home/lucas/Documents/CIN/quantum-classifier/qcls-venv/lib/python3.8/site-packages/qiskit/compiler/transpiler.py?line=397'>398</a>\u001b[0m         transpile_config[\u001b[39m\"\u001b[39m\u001b[39mfaulty_qubits_map\u001b[39m\u001b[39m\"\u001b[39m],\n\u001b[1;32m    <a href='file:///home/lucas/Documents/CIN/quantum-classifier/qcls-venv/lib/python3.8/site-packages/qiskit/compiler/transpiler.py?line=398'>399</a>\u001b[0m     )\n",
      "File \u001b[0;32m~/Documents/CIN/quantum-classifier/qcls-venv/lib/python3.8/site-packages/qiskit/transpiler/passmanager.py:222\u001b[0m, in \u001b[0;36mPassManager.run\u001b[0;34m(self, circuits, output_name, callback)\u001b[0m\n\u001b[1;32m    <a href='file:///home/lucas/Documents/CIN/quantum-classifier/qcls-venv/lib/python3.8/site-packages/qiskit/transpiler/passmanager.py?line=219'>220</a>\u001b[0m     \u001b[39mreturn\u001b[39;00m circuits\n\u001b[1;32m    <a href='file:///home/lucas/Documents/CIN/quantum-classifier/qcls-venv/lib/python3.8/site-packages/qiskit/transpiler/passmanager.py?line=220'>221</a>\u001b[0m \u001b[39mif\u001b[39;00m \u001b[39misinstance\u001b[39m(circuits, QuantumCircuit):\n\u001b[0;32m--> <a href='file:///home/lucas/Documents/CIN/quantum-classifier/qcls-venv/lib/python3.8/site-packages/qiskit/transpiler/passmanager.py?line=221'>222</a>\u001b[0m     \u001b[39mreturn\u001b[39;00m \u001b[39mself\u001b[39;49m\u001b[39m.\u001b[39;49m_run_single_circuit(circuits, output_name, callback)\n\u001b[1;32m    <a href='file:///home/lucas/Documents/CIN/quantum-classifier/qcls-venv/lib/python3.8/site-packages/qiskit/transpiler/passmanager.py?line=222'>223</a>\u001b[0m \u001b[39mif\u001b[39;00m \u001b[39mlen\u001b[39m(circuits) \u001b[39m==\u001b[39m \u001b[39m1\u001b[39m:\n\u001b[1;32m    <a href='file:///home/lucas/Documents/CIN/quantum-classifier/qcls-venv/lib/python3.8/site-packages/qiskit/transpiler/passmanager.py?line=223'>224</a>\u001b[0m     \u001b[39mreturn\u001b[39;00m \u001b[39mself\u001b[39m\u001b[39m.\u001b[39m_run_single_circuit(circuits[\u001b[39m0\u001b[39m], output_name, callback)\n",
      "File \u001b[0;32m~/Documents/CIN/quantum-classifier/qcls-venv/lib/python3.8/site-packages/qiskit/transpiler/passmanager.py:277\u001b[0m, in \u001b[0;36mPassManager._run_single_circuit\u001b[0;34m(self, circuit, output_name, callback)\u001b[0m\n\u001b[1;32m    <a href='file:///home/lucas/Documents/CIN/quantum-classifier/qcls-venv/lib/python3.8/site-packages/qiskit/transpiler/passmanager.py?line=264'>265</a>\u001b[0m \u001b[39m\"\"\"Run all the passes on a ``circuit``.\u001b[39;00m\n\u001b[1;32m    <a href='file:///home/lucas/Documents/CIN/quantum-classifier/qcls-venv/lib/python3.8/site-packages/qiskit/transpiler/passmanager.py?line=265'>266</a>\u001b[0m \n\u001b[1;32m    <a href='file:///home/lucas/Documents/CIN/quantum-classifier/qcls-venv/lib/python3.8/site-packages/qiskit/transpiler/passmanager.py?line=266'>267</a>\u001b[0m \u001b[39mArgs:\u001b[39;00m\n\u001b[0;32m   (...)\u001b[0m\n\u001b[1;32m    <a href='file:///home/lucas/Documents/CIN/quantum-classifier/qcls-venv/lib/python3.8/site-packages/qiskit/transpiler/passmanager.py?line=273'>274</a>\u001b[0m \u001b[39m    The transformed circuit.\u001b[39;00m\n\u001b[1;32m    <a href='file:///home/lucas/Documents/CIN/quantum-classifier/qcls-venv/lib/python3.8/site-packages/qiskit/transpiler/passmanager.py?line=274'>275</a>\u001b[0m \u001b[39m\"\"\"\u001b[39;00m\n\u001b[1;32m    <a href='file:///home/lucas/Documents/CIN/quantum-classifier/qcls-venv/lib/python3.8/site-packages/qiskit/transpiler/passmanager.py?line=275'>276</a>\u001b[0m running_passmanager \u001b[39m=\u001b[39m \u001b[39mself\u001b[39m\u001b[39m.\u001b[39m_create_running_passmanager()\n\u001b[0;32m--> <a href='file:///home/lucas/Documents/CIN/quantum-classifier/qcls-venv/lib/python3.8/site-packages/qiskit/transpiler/passmanager.py?line=276'>277</a>\u001b[0m result \u001b[39m=\u001b[39m running_passmanager\u001b[39m.\u001b[39;49mrun(circuit, output_name\u001b[39m=\u001b[39;49moutput_name, callback\u001b[39m=\u001b[39;49mcallback)\n\u001b[1;32m    <a href='file:///home/lucas/Documents/CIN/quantum-classifier/qcls-venv/lib/python3.8/site-packages/qiskit/transpiler/passmanager.py?line=277'>278</a>\u001b[0m \u001b[39mself\u001b[39m\u001b[39m.\u001b[39mproperty_set \u001b[39m=\u001b[39m running_passmanager\u001b[39m.\u001b[39mproperty_set\n\u001b[1;32m    <a href='file:///home/lucas/Documents/CIN/quantum-classifier/qcls-venv/lib/python3.8/site-packages/qiskit/transpiler/passmanager.py?line=278'>279</a>\u001b[0m \u001b[39mreturn\u001b[39;00m result\n",
      "File \u001b[0;32m~/Documents/CIN/quantum-classifier/qcls-venv/lib/python3.8/site-packages/qiskit/transpiler/runningpassmanager.py:126\u001b[0m, in \u001b[0;36mRunningPassManager.run\u001b[0;34m(***failed resolving arguments***)\u001b[0m\n\u001b[1;32m    <a href='file:///home/lucas/Documents/CIN/quantum-classifier/qcls-venv/lib/python3.8/site-packages/qiskit/transpiler/runningpassmanager.py?line=122'>123</a>\u001b[0m     \u001b[39mfor\u001b[39;00m pass_ \u001b[39min\u001b[39;00m passset:\n\u001b[1;32m    <a href='file:///home/lucas/Documents/CIN/quantum-classifier/qcls-venv/lib/python3.8/site-packages/qiskit/transpiler/runningpassmanager.py?line=123'>124</a>\u001b[0m         dag \u001b[39m=\u001b[39m \u001b[39mself\u001b[39m\u001b[39m.\u001b[39m_do_pass(pass_, dag, passset\u001b[39m.\u001b[39moptions)\n\u001b[0;32m--> <a href='file:///home/lucas/Documents/CIN/quantum-classifier/qcls-venv/lib/python3.8/site-packages/qiskit/transpiler/runningpassmanager.py?line=125'>126</a>\u001b[0m circuit \u001b[39m=\u001b[39m dag_to_circuit(dag)\n\u001b[1;32m    <a href='file:///home/lucas/Documents/CIN/quantum-classifier/qcls-venv/lib/python3.8/site-packages/qiskit/transpiler/runningpassmanager.py?line=126'>127</a>\u001b[0m \u001b[39mif\u001b[39;00m output_name:\n\u001b[1;32m    <a href='file:///home/lucas/Documents/CIN/quantum-classifier/qcls-venv/lib/python3.8/site-packages/qiskit/transpiler/runningpassmanager.py?line=127'>128</a>\u001b[0m     circuit\u001b[39m.\u001b[39mname \u001b[39m=\u001b[39m output_name\n",
      "File \u001b[0;32m~/Documents/CIN/quantum-classifier/qcls-venv/lib/python3.8/site-packages/qiskit/converters/dag_to_circuit.py:63\u001b[0m, in \u001b[0;36mdag_to_circuit\u001b[0;34m(dag)\u001b[0m\n\u001b[1;32m     <a href='file:///home/lucas/Documents/CIN/quantum-classifier/qcls-venv/lib/python3.8/site-packages/qiskit/converters/dag_to_circuit.py?line=58'>59</a>\u001b[0m circuit\u001b[39m.\u001b[39mcalibrations \u001b[39m=\u001b[39m dag\u001b[39m.\u001b[39mcalibrations\n\u001b[1;32m     <a href='file:///home/lucas/Documents/CIN/quantum-classifier/qcls-venv/lib/python3.8/site-packages/qiskit/converters/dag_to_circuit.py?line=60'>61</a>\u001b[0m \u001b[39mfor\u001b[39;00m node \u001b[39min\u001b[39;00m dag\u001b[39m.\u001b[39mtopological_op_nodes():\n\u001b[1;32m     <a href='file:///home/lucas/Documents/CIN/quantum-classifier/qcls-venv/lib/python3.8/site-packages/qiskit/converters/dag_to_circuit.py?line=61'>62</a>\u001b[0m     \u001b[39m# Get arguments for classical control (if any)\u001b[39;00m\n\u001b[0;32m---> <a href='file:///home/lucas/Documents/CIN/quantum-classifier/qcls-venv/lib/python3.8/site-packages/qiskit/converters/dag_to_circuit.py?line=62'>63</a>\u001b[0m     inst \u001b[39m=\u001b[39m node\u001b[39m.\u001b[39;49mop\u001b[39m.\u001b[39;49mcopy()\n\u001b[1;32m     <a href='file:///home/lucas/Documents/CIN/quantum-classifier/qcls-venv/lib/python3.8/site-packages/qiskit/converters/dag_to_circuit.py?line=63'>64</a>\u001b[0m     circuit\u001b[39m.\u001b[39m_append(inst, node\u001b[39m.\u001b[39mqargs, node\u001b[39m.\u001b[39mcargs)\n\u001b[1;32m     <a href='file:///home/lucas/Documents/CIN/quantum-classifier/qcls-venv/lib/python3.8/site-packages/qiskit/converters/dag_to_circuit.py?line=65'>66</a>\u001b[0m circuit\u001b[39m.\u001b[39mduration \u001b[39m=\u001b[39m dag\u001b[39m.\u001b[39mduration\n",
      "File \u001b[0;32m~/Documents/CIN/quantum-classifier/qcls-venv/lib/python3.8/site-packages/qiskit/circuit/instruction.py:424\u001b[0m, in \u001b[0;36mInstruction.copy\u001b[0;34m(self, name)\u001b[0m\n\u001b[1;32m    <a href='file:///home/lucas/Documents/CIN/quantum-classifier/qcls-venv/lib/python3.8/site-packages/qiskit/circuit/instruction.py?line=411'>412</a>\u001b[0m \u001b[39mdef\u001b[39;00m \u001b[39mcopy\u001b[39m(\u001b[39mself\u001b[39m, name\u001b[39m=\u001b[39m\u001b[39mNone\u001b[39;00m):\n\u001b[1;32m    <a href='file:///home/lucas/Documents/CIN/quantum-classifier/qcls-venv/lib/python3.8/site-packages/qiskit/circuit/instruction.py?line=412'>413</a>\u001b[0m     \u001b[39m\"\"\"\u001b[39;00m\n\u001b[1;32m    <a href='file:///home/lucas/Documents/CIN/quantum-classifier/qcls-venv/lib/python3.8/site-packages/qiskit/circuit/instruction.py?line=413'>414</a>\u001b[0m \u001b[39m    Copy of the instruction.\u001b[39;00m\n\u001b[1;32m    <a href='file:///home/lucas/Documents/CIN/quantum-classifier/qcls-venv/lib/python3.8/site-packages/qiskit/circuit/instruction.py?line=414'>415</a>\u001b[0m \n\u001b[0;32m   (...)\u001b[0m\n\u001b[1;32m    <a href='file:///home/lucas/Documents/CIN/quantum-classifier/qcls-venv/lib/python3.8/site-packages/qiskit/circuit/instruction.py?line=421'>422</a>\u001b[0m \u001b[39m        updated if it was provided\u001b[39;00m\n\u001b[1;32m    <a href='file:///home/lucas/Documents/CIN/quantum-classifier/qcls-venv/lib/python3.8/site-packages/qiskit/circuit/instruction.py?line=422'>423</a>\u001b[0m \u001b[39m    \"\"\"\u001b[39;00m\n\u001b[0;32m--> <a href='file:///home/lucas/Documents/CIN/quantum-classifier/qcls-venv/lib/python3.8/site-packages/qiskit/circuit/instruction.py?line=423'>424</a>\u001b[0m     cpy \u001b[39m=\u001b[39m \u001b[39mself\u001b[39;49m\u001b[39m.\u001b[39;49m__deepcopy__()\n\u001b[1;32m    <a href='file:///home/lucas/Documents/CIN/quantum-classifier/qcls-venv/lib/python3.8/site-packages/qiskit/circuit/instruction.py?line=425'>426</a>\u001b[0m     \u001b[39mif\u001b[39;00m name:\n\u001b[1;32m    <a href='file:///home/lucas/Documents/CIN/quantum-classifier/qcls-venv/lib/python3.8/site-packages/qiskit/circuit/instruction.py?line=426'>427</a>\u001b[0m         cpy\u001b[39m.\u001b[39mname \u001b[39m=\u001b[39m name\n",
      "File \u001b[0;32m~/Documents/CIN/quantum-classifier/qcls-venv/lib/python3.8/site-packages/qiskit/circuit/controlledgate.py:231\u001b[0m, in \u001b[0;36mControlledGate.__deepcopy__\u001b[0;34m(self, _memo)\u001b[0m\n\u001b[1;32m    <a href='file:///home/lucas/Documents/CIN/quantum-classifier/qcls-venv/lib/python3.8/site-packages/qiskit/circuit/controlledgate.py?line=228'>229</a>\u001b[0m \u001b[39mdef\u001b[39;00m \u001b[39m__deepcopy__\u001b[39m(\u001b[39mself\u001b[39m, _memo\u001b[39m=\u001b[39m\u001b[39mNone\u001b[39;00m):\n\u001b[1;32m    <a href='file:///home/lucas/Documents/CIN/quantum-classifier/qcls-venv/lib/python3.8/site-packages/qiskit/circuit/controlledgate.py?line=229'>230</a>\u001b[0m     cpy \u001b[39m=\u001b[39m copy\u001b[39m.\u001b[39mcopy(\u001b[39mself\u001b[39m)\n\u001b[0;32m--> <a href='file:///home/lucas/Documents/CIN/quantum-classifier/qcls-venv/lib/python3.8/site-packages/qiskit/circuit/controlledgate.py?line=230'>231</a>\u001b[0m     cpy\u001b[39m.\u001b[39mbase_gate \u001b[39m=\u001b[39m \u001b[39mself\u001b[39;49m\u001b[39m.\u001b[39;49mbase_gate\u001b[39m.\u001b[39;49mcopy()\n\u001b[1;32m    <a href='file:///home/lucas/Documents/CIN/quantum-classifier/qcls-venv/lib/python3.8/site-packages/qiskit/circuit/controlledgate.py?line=231'>232</a>\u001b[0m     \u001b[39mif\u001b[39;00m \u001b[39mself\u001b[39m\u001b[39m.\u001b[39m_definition:\n\u001b[1;32m    <a href='file:///home/lucas/Documents/CIN/quantum-classifier/qcls-venv/lib/python3.8/site-packages/qiskit/circuit/controlledgate.py?line=232'>233</a>\u001b[0m         cpy\u001b[39m.\u001b[39m_definition \u001b[39m=\u001b[39m copy\u001b[39m.\u001b[39mdeepcopy(\u001b[39mself\u001b[39m\u001b[39m.\u001b[39m_definition, _memo)\n",
      "File \u001b[0;32m~/Documents/CIN/quantum-classifier/qcls-venv/lib/python3.8/site-packages/qiskit/circuit/instruction.py:424\u001b[0m, in \u001b[0;36mInstruction.copy\u001b[0;34m(self, name)\u001b[0m\n\u001b[1;32m    <a href='file:///home/lucas/Documents/CIN/quantum-classifier/qcls-venv/lib/python3.8/site-packages/qiskit/circuit/instruction.py?line=411'>412</a>\u001b[0m \u001b[39mdef\u001b[39;00m \u001b[39mcopy\u001b[39m(\u001b[39mself\u001b[39m, name\u001b[39m=\u001b[39m\u001b[39mNone\u001b[39;00m):\n\u001b[1;32m    <a href='file:///home/lucas/Documents/CIN/quantum-classifier/qcls-venv/lib/python3.8/site-packages/qiskit/circuit/instruction.py?line=412'>413</a>\u001b[0m     \u001b[39m\"\"\"\u001b[39;00m\n\u001b[1;32m    <a href='file:///home/lucas/Documents/CIN/quantum-classifier/qcls-venv/lib/python3.8/site-packages/qiskit/circuit/instruction.py?line=413'>414</a>\u001b[0m \u001b[39m    Copy of the instruction.\u001b[39;00m\n\u001b[1;32m    <a href='file:///home/lucas/Documents/CIN/quantum-classifier/qcls-venv/lib/python3.8/site-packages/qiskit/circuit/instruction.py?line=414'>415</a>\u001b[0m \n\u001b[0;32m   (...)\u001b[0m\n\u001b[1;32m    <a href='file:///home/lucas/Documents/CIN/quantum-classifier/qcls-venv/lib/python3.8/site-packages/qiskit/circuit/instruction.py?line=421'>422</a>\u001b[0m \u001b[39m        updated if it was provided\u001b[39;00m\n\u001b[1;32m    <a href='file:///home/lucas/Documents/CIN/quantum-classifier/qcls-venv/lib/python3.8/site-packages/qiskit/circuit/instruction.py?line=422'>423</a>\u001b[0m \u001b[39m    \"\"\"\u001b[39;00m\n\u001b[0;32m--> <a href='file:///home/lucas/Documents/CIN/quantum-classifier/qcls-venv/lib/python3.8/site-packages/qiskit/circuit/instruction.py?line=423'>424</a>\u001b[0m     cpy \u001b[39m=\u001b[39m \u001b[39mself\u001b[39;49m\u001b[39m.\u001b[39;49m__deepcopy__()\n\u001b[1;32m    <a href='file:///home/lucas/Documents/CIN/quantum-classifier/qcls-venv/lib/python3.8/site-packages/qiskit/circuit/instruction.py?line=425'>426</a>\u001b[0m     \u001b[39mif\u001b[39;00m name:\n\u001b[1;32m    <a href='file:///home/lucas/Documents/CIN/quantum-classifier/qcls-venv/lib/python3.8/site-packages/qiskit/circuit/instruction.py?line=426'>427</a>\u001b[0m         cpy\u001b[39m.\u001b[39mname \u001b[39m=\u001b[39m name\n",
      "File \u001b[0;32m~/Documents/CIN/quantum-classifier/qcls-venv/lib/python3.8/site-packages/qiskit/circuit/instruction.py:431\u001b[0m, in \u001b[0;36mInstruction.__deepcopy__\u001b[0;34m(self, _memo)\u001b[0m\n\u001b[1;32m    <a href='file:///home/lucas/Documents/CIN/quantum-classifier/qcls-venv/lib/python3.8/site-packages/qiskit/circuit/instruction.py?line=429'>430</a>\u001b[0m \u001b[39mdef\u001b[39;00m \u001b[39m__deepcopy__\u001b[39m(\u001b[39mself\u001b[39m, _memo\u001b[39m=\u001b[39m\u001b[39mNone\u001b[39;00m):\n\u001b[0;32m--> <a href='file:///home/lucas/Documents/CIN/quantum-classifier/qcls-venv/lib/python3.8/site-packages/qiskit/circuit/instruction.py?line=430'>431</a>\u001b[0m     cpy \u001b[39m=\u001b[39m copy\u001b[39m.\u001b[39;49mcopy(\u001b[39mself\u001b[39;49m)\n\u001b[1;32m    <a href='file:///home/lucas/Documents/CIN/quantum-classifier/qcls-venv/lib/python3.8/site-packages/qiskit/circuit/instruction.py?line=431'>432</a>\u001b[0m     cpy\u001b[39m.\u001b[39m_params \u001b[39m=\u001b[39m copy\u001b[39m.\u001b[39mcopy(\u001b[39mself\u001b[39m\u001b[39m.\u001b[39m_params)\n\u001b[1;32m    <a href='file:///home/lucas/Documents/CIN/quantum-classifier/qcls-venv/lib/python3.8/site-packages/qiskit/circuit/instruction.py?line=432'>433</a>\u001b[0m     \u001b[39mif\u001b[39;00m \u001b[39mself\u001b[39m\u001b[39m.\u001b[39m_definition:\n",
      "File \u001b[0;32m/usr/lib/python3.8/copy.py:102\u001b[0m, in \u001b[0;36mcopy\u001b[0;34m(x)\u001b[0m\n\u001b[1;32m    <a href='file:///usr/lib/python3.8/copy.py?line=99'>100</a>\u001b[0m \u001b[39mif\u001b[39;00m \u001b[39misinstance\u001b[39m(rv, \u001b[39mstr\u001b[39m):\n\u001b[1;32m    <a href='file:///usr/lib/python3.8/copy.py?line=100'>101</a>\u001b[0m     \u001b[39mreturn\u001b[39;00m x\n\u001b[0;32m--> <a href='file:///usr/lib/python3.8/copy.py?line=101'>102</a>\u001b[0m \u001b[39mreturn\u001b[39;00m _reconstruct(x, \u001b[39mNone\u001b[39;49;00m, \u001b[39m*\u001b[39;49mrv)\n",
      "File \u001b[0;32m/usr/lib/python3.8/copy.py:264\u001b[0m, in \u001b[0;36m_reconstruct\u001b[0;34m(x, memo, func, args, state, listiter, dictiter, deepcopy)\u001b[0m\n\u001b[1;32m    <a href='file:///usr/lib/python3.8/copy.py?line=261'>262</a>\u001b[0m \u001b[39mif\u001b[39;00m deep \u001b[39mand\u001b[39;00m args:\n\u001b[1;32m    <a href='file:///usr/lib/python3.8/copy.py?line=262'>263</a>\u001b[0m     args \u001b[39m=\u001b[39m (deepcopy(arg, memo) \u001b[39mfor\u001b[39;00m arg \u001b[39min\u001b[39;00m args)\n\u001b[0;32m--> <a href='file:///usr/lib/python3.8/copy.py?line=263'>264</a>\u001b[0m y \u001b[39m=\u001b[39m func(\u001b[39m*\u001b[39;49margs)\n\u001b[1;32m    <a href='file:///usr/lib/python3.8/copy.py?line=264'>265</a>\u001b[0m \u001b[39mif\u001b[39;00m deep:\n\u001b[1;32m    <a href='file:///usr/lib/python3.8/copy.py?line=265'>266</a>\u001b[0m     memo[\u001b[39mid\u001b[39m(x)] \u001b[39m=\u001b[39m y\n",
      "File \u001b[0;32m/usr/lib/python3.8/copyreg.py:91\u001b[0m, in \u001b[0;36m__newobj__\u001b[0;34m(cls, *args)\u001b[0m\n\u001b[1;32m     <a href='file:///usr/lib/python3.8/copyreg.py?line=89'>90</a>\u001b[0m \u001b[39mdef\u001b[39;00m \u001b[39m__newobj__\u001b[39m(\u001b[39mcls\u001b[39m, \u001b[39m*\u001b[39margs):\n\u001b[0;32m---> <a href='file:///usr/lib/python3.8/copyreg.py?line=90'>91</a>\u001b[0m     \u001b[39mreturn\u001b[39;00m \u001b[39mcls\u001b[39;49m\u001b[39m.\u001b[39;49m\u001b[39m__new__\u001b[39;49m(\u001b[39mcls\u001b[39;49m, \u001b[39m*\u001b[39;49margs)\n",
      "\u001b[0;31mKeyboardInterrupt\u001b[0m: "
     ]
    }
   ],
   "source": [
    "\n",
    "\n",
    "size = len(neuron.input_states[0][0])\n",
    "w = np.random.uniform(0, np.pi/2, size)\n",
    "\n",
    "cost = 0\n",
    "\n",
    "for i in range(len(neuron.input_states)):\n",
    "    y = neuron.run(i, w)\n",
    "    cost += (neuron.input_states[i][1] - y) ** 2\n",
    "    print(cost)\n",
    "cost /= len(neuron.input_states)\n",
    "neuron.cost_array.append(cost)"
   ]
  },
  {
   "cell_type": "code",
   "execution_count": null,
   "metadata": {},
   "outputs": [],
   "source": []
  }
 ],
 "metadata": {
  "interpreter": {
   "hash": "31f2aee4e71d21fbe5cf8b01ff0e069b9275f58929596ceb00d14d90e3e16cd6"
  },
  "kernelspec": {
   "display_name": "Python 3.8.2 64-bit",
   "language": "python",
   "name": "python3"
  },
  "language_info": {
   "codemirror_mode": {
    "name": "ipython",
    "version": 3
   },
   "file_extension": ".py",
   "mimetype": "text/x-python",
   "name": "python",
   "nbconvert_exporter": "python",
   "pygments_lexer": "ipython3",
   "version": "3.8.10"
  },
  "orig_nbformat": 4
 },
 "nbformat": 4,
 "nbformat_minor": 2
}
